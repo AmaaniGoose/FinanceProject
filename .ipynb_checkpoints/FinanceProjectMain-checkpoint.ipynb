{
 "cells": [
  {
   "cell_type": "markdown",
   "metadata": {},
   "source": [
    "Welcome!"
   ]
  },
  {
   "cell_type": "markdown",
   "metadata": {},
   "source": [
    "# Version 1: Using machine learning"
   ]
  },
  {
   "cell_type": "code",
   "execution_count": 1,
   "metadata": {},
   "outputs": [],
   "source": [
    "import csv\n",
    "import random\n",
    "import matplotlib.pyplot as plt\n",
    "import numpy as np\n",
    "import scipy.stats as statfunc\n",
    "import pandas as pd\n",
    "import plotly.graph_objs as go\n",
    "import mplfinance as mpf\n",
    "from sklearn import mixture as mix\n",
    "import seaborn as sns \n",
    "from pandas_datareader import data as web"
   ]
  },
  {
   "cell_type": "code",
   "execution_count": 2,
   "metadata": {},
   "outputs": [],
   "source": [
    "df= web.get_data_yahoo('^NSEI',start= '2018-04-09', end='2020-07-09')\n",
    "df=df[['Open','High','Low','Close']]\n",
    "df['open']=df['Open'].shift(1)\n",
    "df['high']=df['High'].shift(1)\n",
    "df['low']=df['Low'].shift(1)\n",
    "df['close']=df['Close'].shift(1)\n",
    "\n",
    "df=df[['open','high','low','close']]\n",
    "\n"
   ]
  },
  {
   "cell_type": "code",
   "execution_count": 11,
   "metadata": {},
   "outputs": [],
   "source": [
    "df=df.dropna()"
   ]
  },
  {
   "cell_type": "code",
   "execution_count": 12,
   "metadata": {},
   "outputs": [],
   "source": [
    "unsup = mix.GaussianMixture(n_components=4, covariance_type=\"spherical\", n_init=100, random_state=42)"
   ]
  },
  {
   "cell_type": "code",
   "execution_count": 13,
   "metadata": {},
   "outputs": [],
   "source": [
    "unsup.fit(np.reshape(df,(-1,df.shape[1])))\n",
    "regime = unsup.predict(np.reshape(df,(-1,df.shape[1])))"
   ]
  },
  {
   "cell_type": "code",
   "execution_count": 14,
   "metadata": {},
   "outputs": [],
   "source": [
    "df['Return']= np.log(df['close']/df['close'].shift(1))"
   ]
  },
  {
   "cell_type": "code",
   "execution_count": 15,
   "metadata": {},
   "outputs": [],
   "source": [
    "Regimes=pd.DataFrame(regime,columns=['Regime'],index=df.index)\\\n",
    "                     .join(df, how='inner')\\\n",
    "                          .assign(market_cu_return=df.Return.cumsum())\\\n",
    "                                 .reset_index(drop=False)\\\n",
    "                                             .rename(columns={'index':'Date'})"
   ]
  },
  {
   "cell_type": "code",
   "execution_count": 18,
   "metadata": {},
   "outputs": [
    {
     "data": {
      "image/png": "[encoded data removed]",
      "text/plain": [
       "<Figure size 622x288 with 1 Axes>"
      ]
     },
     "metadata": {
      "needs_background": "light"
     },
     "output_type": "display_data"
    }
   ],
   "source": [
    "order=[0,1,2,3]\n",
    "fig = sns.FacetGrid(data=Regimes,hue='Regime',hue_order=order,aspect=2,size= 4)\n",
    "fig.map(plt.scatter,'Date','market_cu_return', s=4).add_legend()\n",
    "plt.show()"
   ]
  },
  {
   "cell_type": "code",
   "execution_count": 25,
   "metadata": {},
   "outputs": [
    {
     "name": "stdout",
     "output_type": "stream",
     "text": [
      "Mean for regime 0:  11509.53529787977\n",
      "Co-Variancefor regime 0:  30129.53591083525\n",
      "Mean for regime 1:  9447.568061972073\n",
      "Co-Variancefor regime 1:  453270.4393573308\n",
      "Mean for regime 2:  12047.58666296877\n",
      "Co-Variancefor regime 2:  23140.55874335928\n",
      "Mean for regime 3:  10784.711367813601\n",
      "Co-Variancefor regime 3:  36092.40967109589\n"
     ]
    }
   ],
   "source": [
    "for i in order:\n",
    "    print('Mean for regime %i: '%i,unsup.means_[i][0])\n",
    "    print('Co-Variancefor regime %i: '%i,(unsup.covariances_[i]))"
   ]
  },
  {
   "cell_type": "markdown",
   "metadata": {},
   "source": [
    "# Version 2: Using technical indicators"
   ]
  },
  {
   "cell_type": "code",
   "execution_count": 3,
   "metadata": {},
   "outputs": [
    {
     "name": "stdout",
     "output_type": "stream",
     "text": [
      "                    open          high           low         close\n",
      "Date                                                              \n",
      "2018-04-09           NaN           NaN           NaN           NaN\n",
      "2018-04-10  10333.700195  10397.700195  10328.500000  10379.349609\n",
      "2018-04-11  10412.900391  10424.849609  10381.500000  10402.250000\n",
      "2018-04-12  10428.150391  10428.150391  10355.599609  10417.150391\n",
      "2018-04-13  10410.650391  10469.900391  10395.250000  10458.650391\n",
      "...                  ...           ...           ...           ...\n",
      "2020-07-03  10493.049805  10598.200195  10485.549805  10551.700195\n",
      "2020-07-06  10614.950195  10631.299805  10562.650391  10607.349609\n",
      "2020-07-07  10723.849609  10811.400391  10695.099609  10763.650391\n",
      "2020-07-08  10802.849609  10813.799805  10689.700195  10799.650391\n",
      "2020-07-09  10818.650391  10847.849609  10676.549805  10705.750000\n",
      "\n",
      "[551 rows x 4 columns]\n"
     ]
    }
   ],
   "source": []
  },
  {
   "cell_type": "code",
   "execution_count": null,
   "metadata": {},
   "outputs": [],
   "source": []
  }
 ],
 "metadata": {
  "kernelspec": {
   "display_name": "Python 3",
   "language": "python",
   "name": "python3"
  },
  "language_info": {
   "codemirror_mode": {
    "name": "ipython",
    "version": 3
   },
   "file_extension": ".py",
   "mimetype": "text/x-python",
   "name": "python",
   "nbconvert_exporter": "python",
   "pygments_lexer": "ipython3",
   "version": "3.7.4"
  }
 },
 "nbformat": 4,
 "nbformat_minor": 4
}
