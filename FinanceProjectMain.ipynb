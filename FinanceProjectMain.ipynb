{
 "cells": [
  {
   "cell_type": "markdown",
   "metadata": {},
   "source": [
    "Welcome!"
   ]
  },
  {
   "cell_type": "markdown",
   "metadata": {},
   "source": [
    "In finance momentum refers to the phenomenon of cross-sectional predictability of returns by past price data. A standard example would be the well documented tendency of stocks that have had high returns over the past one to twelve months to continue outperform stocks that have performed poorly over the same period. Positive returns from buying past winners and selling past losers is a long-standing market anomaly in financial research documented for basically every asset class and literally for hundreds of years. Note that since the stocks are compared to their peers we talk about cross-sectional predictability, in contrast to the time-series momentum, or trend following, where decision to buy or sell a stock depends on its own past performance only. Over the past quarter of a century the finance literature has proposed numerous ways to measure the momentum, e.g. in terms of lookback horizon, and identified a host of confounding variables, like market volatility, predicting its performance as an investment strategy. The emerging field of financial machine learning further finds past price data to be among the strongest predictors of future returns, dominating fundamental variables like book-to-market ratio."
   ]
  },
  {
   "cell_type": "code",
   "execution_count": 1,
   "metadata": {},
   "outputs": [],
   "source": [
    "import csv\n",
    "import random\n",
    "import matplotlib.pyplot as plt\n",
    "import numpy as np\n",
    "import scipy.stats as statfunc\n",
    "import pandas as pd\n",
    "import plotly.graph_objs as go\n",
    "import mplfinance as mpf\n",
    "from sklearn import mixture as mix\n",
    "import seaborn as sns \n",
    "from pandas_datareader import data as web"
   ]
  },
  {
   "cell_type": "code",
   "execution_count": 23,
   "metadata": {},
   "outputs": [],
   "source": [
    "df= web.get_data_yahoo('RELIANCE.NS',start= '2018-04-08', end='2020-12-12')\n",
    "df=df[['Open','High','Low','Close','Volume']]\n",
    "df['open']=df['Open'].shift(1)\n",
    "df['high']=df['High'].shift(1)\n",
    "df['low']=df['Low'].shift(1)\n",
    "df['close']=df['Close'].shift(1)\n",
    "df['volume']=df['Volume'].shift(1)\n",
    "df=df[['open','high','low','close','volume']]\n",
    "\n"
   ]
  },
  {
   "cell_type": "code",
   "execution_count": 11,
   "metadata": {},
   "outputs": [],
   "source": [
    "df=df.dropna()"
   ]
  },
  {
   "cell_type": "code",
   "execution_count": 12,
   "metadata": {},
   "outputs": [],
   "source": [
    "unsup = mix.GaussianMixture(n_components=4, covariance_type=\"spherical\", n_init=100, random_state=42)"
   ]
  },
  {
   "cell_type": "code",
   "execution_count": 13,
   "metadata": {},
   "outputs": [],
   "source": [
    "unsup.fit(np.reshape(df,(-1,df.shape[1])))\n",
    "regime = unsup.predict(np.reshape(df,(-1,df.shape[1])))"
   ]
  },
  {
   "cell_type": "code",
   "execution_count": 14,
   "metadata": {},
   "outputs": [],
   "source": [
    "df['Return']= np.log(df['close']/df['close'].shift(1))"
   ]
  },
  {
   "cell_type": "code",
   "execution_count": 15,
   "metadata": {},
   "outputs": [],
   "source": [
    "Regimes=pd.DataFrame(regime,columns=['Regime'],index=df.index)\\\n",
    "                     .join(df, how='inner')\\\n",
    "                          .assign(market_cu_return=df.Return.cumsum())\\\n",
    "                                 .reset_index(drop=False)\\\n",
    "                                             .rename(columns={'index':'Date'})"
   ]
  },
  {
   "cell_type": "code",
   "execution_count": 16,
   "metadata": {},
   "outputs": [
    {
     "name": "stderr",
     "output_type": "stream",
     "text": [
      "C:\\ProgramData\\Anaconda3\\lib\\site-packages\\seaborn\\axisgrid.py:230: UserWarning: The `size` paramter has been renamed to `height`; please update your code.\n",
      "  warnings.warn(msg, UserWarning)\n"
     ]
    },
    {
     "data": {
      "image/png": "[encoded data removed]",
      "text/plain": [
       "<Figure size 622x288 with 1 Axes>"
      ]
     },
     "metadata": {
      "needs_background": "light"
     },
     "output_type": "display_data"
    }
   ],
   "source": [
    "order=[0,1,2,3]\n",
    "fig = sns.FacetGrid(data=Regimes,hue='Regime',hue_order=order,aspect=2,size= 4)\n",
    "fig.map(plt.scatter,'Date','market_cu_return', s=4).add_legend()\n",
    "plt.show()"
   ]
  },
  {
   "cell_type": "code",
   "execution_count": 9,
   "metadata": {},
   "outputs": [
    {
     "name": "stdout",
     "output_type": "stream",
     "text": [
      "Mean for regime 0:  10784.766638714711\n",
      "Co-Variancefor regime 0:  36141.444765725864\n",
      "Mean for regime 1:  12047.572769668644\n",
      "Co-Variancefor regime 1:  23143.320584827794\n",
      "Mean for regime 2:  9447.270093875897\n",
      "Co-Variancefor regime 2:  453141.17885501473\n",
      "Mean for regime 3:  11509.5640340791\n",
      "Co-Variancefor regime 3:  30112.327401162816\n"
     ]
    }
   ],
   "source": [
    "for i in order:\n",
    "    print('Mean for regime %i: '%i,unsup.means_[i][0])\n",
    "    print('Co-Variancefor regime %i: '%i,(unsup.covariances_[i]))"
   ]
  },
  {
   "cell_type": "markdown",
   "metadata": {},
   "source": [
    "# Version 2: Using technical indicators"
   ]
  },
  {
   "cell_type": "code",
   "execution_count": 24,
   "metadata": {},
   "outputs": [
    {
     "name": "stdout",
     "output_type": "stream",
     "text": [
      "                   open         high          low        close      volume\n",
      "Date                                                                      \n",
      "2018-04-09          NaN          NaN          NaN          NaN         NaN\n",
      "2018-04-10   912.549988   919.000000   912.549988   916.000000   3572251.0\n",
      "2018-04-11   918.400024   923.900024   914.150024   917.049988   3865402.0\n",
      "2018-04-12   921.799988   932.750000   916.049988   930.849976   6007539.0\n",
      "2018-04-13   929.849976   936.650024   924.200012   928.700012   4947725.0\n",
      "...                 ...          ...          ...          ...         ...\n",
      "2020-12-07  1969.000000  1969.000000  1940.000000  1946.750000   8521388.0\n",
      "2020-12-08  1940.599976  1965.000000  1940.599976  1958.199951   8418767.0\n",
      "2020-12-09  1961.150024  2014.250000  1950.000000  1993.750000  20030506.0\n",
      "2020-12-10  2009.949951  2033.800049  1999.250000  2026.949951  13464375.0\n",
      "2020-12-11  2021.599976  2028.500000  2001.000000  2007.000000   7414229.0\n",
      "\n",
      "[660 rows x 5 columns]\n"
     ]
    }
   ],
   "source": [
    "print(df)"
   ]
  },
  {
   "cell_type": "code",
   "execution_count": null,
   "metadata": {},
   "outputs": [],
   "source": [
    "def RSI(df, base=\"Close\", period=21):\n",
    "    \"\"\"\n",
    "    Function to compute Relative Strength Index (RSI)\n",
    "    \n",
    "    Args :\n",
    "        df : Pandas DataFrame which contains ['date', 'open', 'high', 'low', 'close', 'volume'] columns\n",
    "        base : String indicating the column name from which the MACD needs to be computed from (Default Close)\n",
    "        period : Integer indicates the period of computation in terms of number of candles\n",
    "        \n",
    "    Returns :\n",
    "        df : Pandas DataFrame with new columns added for \n",
    "            Relative Strength Index (RSI_$period)\n",
    "    \"\"\"\n",
    " \n",
    "    delta = df[base].diff()\n",
    "    up, down = delta.copy(), delta.copy()\n",
    "\n",
    "    up[up < 0] = 0\n",
    "    down[down > 0] = 0\n",
    "    \n",
    "    rUp = up.ewm(com=period - 1,  adjust=False).mean()\n",
    "    rDown = down.ewm(com=period - 1, adjust=False).mean().abs()\n",
    "\n",
    "    df['RSI_' + str(period)] = 100 - 100 / (1 + rUp / rDown)\n",
    "    df['RSI_' + str(period)].fillna(0, inplace=True)\n",
    "\n",
    "    return df"
   ]
  },
  {
   "cell_type": "code",
   "execution_count": null,
   "metadata": {},
   "outputs": [],
   "source": [
    "def BBand(df, base='Close', period=20, multiplier=2):\n",
    "    \"\"\"\n",
    "    Function to compute Bollinger Band (BBand)\n",
    "    \n",
    "    Args :\n",
    "        df : Pandas DataFrame which contains ['date', 'open', 'high', 'low', 'close', 'volume'] columns\n",
    "        base : String indicating the column name from which the MACD needs to be computed from (Default Close)\n",
    "        period : Integer indicates the period of computation in terms of number of candles\n",
    "        multiplier : Integer indicates value to multiply the SD\n",
    "        \n",
    "    Returns :\n",
    "        df : Pandas DataFrame with new columns added for \n",
    "            Upper Band (UpperBB_$period_$multiplier)\n",
    "            Lower Band (LowerBB_$period_$multiplier)\n",
    "    \"\"\"\n",
    "    \n",
    "    upper = 'UpperBB_' + str(period) + '_' + str(multiplier)\n",
    "    lower = 'LowerBB_' + str(period) + '_' + str(multiplier)\n",
    "    \n",
    "    sma = df[base].rolling(window=period, min_periods=period - 1).mean()\n",
    "    sd = df[base].rolling(window=period).std()\n",
    "    df[upper] = sma + (multiplier * sd)\n",
    "    df[lower] = sma - (multiplier * sd)\n",
    "    \n",
    "    df[upper].fillna(0, inplace=True)\n",
    "    df[lower].fillna(0, inplace=True)\n",
    "    \n",
    "    return df"
   ]
  },
  {
   "cell_type": "code",
   "execution_count": null,
   "metadata": {},
   "outputs": [],
   "source": [
    "def MACD(df, fastEMA=12, slowEMA=26, signal=9, base='Close'):\n",
    "    \"\"\"\n",
    "    Function to compute Moving Average Convergence Divergence (MACD)\n",
    "    \n",
    "    Args :\n",
    "        df : Pandas DataFrame which contains ['date', 'open', 'high', 'low', 'close', 'volume'] columns\n",
    "        fastEMA : Integer indicates faster EMA\n",
    "        slowEMA : Integer indicates slower EMA\n",
    "        signal : Integer indicates the signal generator for MACD\n",
    "        base : String indicating the column name from which the MACD needs to be computed from (Default Close)\n",
    "        \n",
    "    Returns :\n",
    "        df : Pandas DataFrame with new columns added for \n",
    "            Fast EMA (ema_$fastEMA)\n",
    "            Slow EMA (ema_$slowEMA)\n",
    "            MACD (macd_$fastEMA_$slowEMA_$signal)\n",
    "            MACD Signal (signal_$fastEMA_$slowEMA_$signal)\n",
    "            MACD Histogram (MACD (hist_$fastEMA_$slowEMA_$signal)) \n",
    "    \"\"\"\n",
    "\n",
    "    fE = \"ema_\" + str(fastEMA)\n",
    "    sE = \"ema_\" + str(slowEMA)\n",
    "    macd = \"macd_\" + str(fastEMA) + \"_\" + str(slowEMA) + \"_\" + str(signal)\n",
    "    sig = \"signal_\" + str(fastEMA) + \"_\" + str(slowEMA) + \"_\" + str(signal)\n",
    "    hist = \"hist_\" + str(fastEMA) + \"_\" + str(slowEMA) + \"_\" + str(signal)\n",
    "\n",
    "    # Compute fast and slow EMA    \n",
    "    EMA(df, base, fE, fastEMA)\n",
    "    EMA(df, base, sE, slowEMA)\n",
    "    \n",
    "    # Compute MACD\n",
    "    df[macd] = np.where(np.logical_and(np.logical_not(df[fE] == 0), np.logical_not(df[sE] == 0)), df[fE] - df[sE], 0)\n",
    "    \n",
    "    # Compute MACD Signal\n",
    "    EMA(df, macd, sig, signal)\n",
    "    \n",
    "    # Compute MACD Histogram\n",
    "    df[hist] = np.where(np.logical_and(np.logical_not(df[macd] == 0), np.logical_not(df[sig] == 0)), df[macd] - df[sig], 0)\n",
    "    \n",
    "    return df"
   ]
  },
  {
   "cell_type": "code",
   "execution_count": null,
   "metadata": {},
   "outputs": [],
   "source": [
    "def ATR(df, period, ohlc=['Open', 'High', 'Low', 'Close']):\n",
    "    \"\"\"\n",
    "    Function to compute Average True Range (ATR)\n",
    "    \n",
    "    Args :\n",
    "        df : Pandas DataFrame which contains ['date', 'open', 'high', 'low', 'close', 'volume'] columns\n",
    "        period : Integer indicates the period of computation in terms of number of candles\n",
    "        ohlc: List defining OHLC Column names (default ['Open', 'High', 'Low', 'Close'])\n",
    "        \n",
    "    Returns :\n",
    "        df : Pandas DataFrame with new columns added for \n",
    "            True Range (TR)\n",
    "            ATR (ATR_$period)\n",
    "    \"\"\"\n",
    "    atr = 'ATR_' + str(period)\n",
    "\n",
    "    # Compute true range only if it is not computed and stored earlier in the df\n",
    "    if not 'TR' in df.columns:\n",
    "        df['h-l'] = df[ohlc[1]] - df[ohlc[2]]\n",
    "        df['h-yc'] = abs(df[ohlc[1]] - df[ohlc[3]].shift())\n",
    "        df['l-yc'] = abs(df[ohlc[2]] - df[ohlc[3]].shift())\n",
    "         \n",
    "        df['TR'] = df[['h-l', 'h-yc', 'l-yc']].max(axis=1)\n",
    "         \n",
    "        df.drop(['h-l', 'h-yc', 'l-yc'], inplace=True, axis=1)\n",
    "\n",
    "    # Compute EMA of true range using ATR formula after ignoring first row\n",
    "    EMA(df, 'TR', atr, period, alpha=True)\n",
    "    \n",
    "    return df"
   ]
  }
 ],
 "metadata": {
  "kernelspec": {
   "display_name": "Python 3",
   "language": "python",
   "name": "python3"
  },
  "language_info": {
   "codemirror_mode": {
    "name": "ipython",
    "version": 3
   },
   "file_extension": ".py",
   "mimetype": "text/x-python",
   "name": "python",
   "nbconvert_exporter": "python",
   "pygments_lexer": "ipython3",
   "version": "3.7.4"
  }
 },
 "nbformat": 4,
 "nbformat_minor": 4
}
